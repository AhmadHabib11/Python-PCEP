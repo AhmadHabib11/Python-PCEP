{
 "cells": [
  {
   "cell_type": "code",
   "execution_count": 1,
   "id": "b9bb32fe-b812-475c-9857-d11542548989",
   "metadata": {},
   "outputs": [
    {
     "name": "stdin",
     "output_type": "stream",
     "text": [
      "Enter your login:  ahmad\n",
      "Enter your native language:  urdu\n"
     ]
    },
    {
     "name": "stdout",
     "output_type": "stream",
     "text": [
      "Your login is ahmad and you speak urdu\n"
     ]
    }
   ],
   "source": [
    "login = input('Enter your login: ')\n",
    "language = input('Enter your native language: ')\n",
    "\n",
    "print('Your login is', login, 'and you speak', language)\n"
   ]
  },
  {
   "cell_type": "code",
   "execution_count": 1,
   "id": "c1c5f534-cfa3-4f84-9030-dd795b6d2482",
   "metadata": {},
   "outputs": [
    {
     "name": "stdin",
     "output_type": "stream",
     "text": [
      "How many hours did you work last month?  2\n",
      "What is your hourly rate?  2.67\n"
     ]
    },
    {
     "name": "stdout",
     "output_type": "stream",
     "text": [
      "Last month, you earned 5.34 dollars\n"
     ]
    }
   ],
   "source": [
    "hours = float(input('How many hours did you work last month? '))\n",
    "hourly_rate = float(input('What is your hourly rate? '))\n",
    "\n",
    "print ('Last month, you earned',hours*hourly_rate,'dollars' )"
   ]
  },
  {
   "cell_type": "code",
   "execution_count": 2,
   "id": "3c0681ee-1bc6-4337-b2cf-dcdd63345eb1",
   "metadata": {},
   "outputs": [
    {
     "data": {
      "text/plain": [
       "4.0"
      ]
     },
     "execution_count": 2,
     "metadata": {},
     "output_type": "execute_result"
    }
   ],
   "source": [
    "8 / 2\n"
   ]
  },
  {
   "cell_type": "code",
   "execution_count": 3,
   "id": "66eaa50e-3121-456f-ac09-16a4cdf28f59",
   "metadata": {},
   "outputs": [
    {
     "data": {
      "text/plain": [
       "4"
      ]
     },
     "execution_count": 3,
     "metadata": {},
     "output_type": "execute_result"
    }
   ],
   "source": [
    "8 // 2"
   ]
  },
  {
   "cell_type": "code",
   "execution_count": 9,
   "id": "086b8879-e7a7-482f-97fb-257f33312180",
   "metadata": {},
   "outputs": [
    {
     "name": "stdout",
     "output_type": "stream",
     "text": [
      "Your first name is-John-Welcome!="
     ]
    }
   ],
   "source": [
    "first_name = 'John'\n",
    "print('Your first name is',first_name,'Welcome!', sep='-', end='=')"
   ]
  },
  {
   "cell_type": "code",
   "execution_count": 16,
   "id": "fbc27c92-8e2d-4aae-bec5-59921263c9d8",
   "metadata": {},
   "outputs": [
    {
     "name": "stdout",
     "output_type": "stream",
     "text": [
      "My first name is-ahmad-and my last name is-habib-!+-"
     ]
    }
   ],
   "source": [
    "fn = 'ahmad'\n",
    "ln = 'habib'\n",
    "print ('My first name is',fn,'and my last name is',ln,'!', sep = '-' , end = '+-' )"
   ]
  },
  {
   "cell_type": "code",
   "execution_count": 13,
   "id": "32a81d12-632f-4010-9038-bd5f27b35cdc",
   "metadata": {},
   "outputs": [
    {
     "ename": "SyntaxError",
     "evalue": "unterminated string literal (detected at line 13) (1192437878.py, line 13)",
     "output_type": "error",
     "traceback": [
      "\u001b[1;36m  Cell \u001b[1;32mIn[13], line 13\u001b[1;36m\u001b[0m\n\u001b[1;33m    print('You cannot get a refund.)\u001b[0m\n\u001b[1;37m          ^\u001b[0m\n\u001b[1;31mSyntaxError\u001b[0m\u001b[1;31m:\u001b[0m unterminated string literal (detected at line 13)\n"
     ]
    }
   ],
   "source": [
    "days = int (input('How many days ago have you purchased the item? '))\n",
    "if days <= 10 :\n",
    "    used = input('Have you used the item at all [y/n]? ')\n",
    "    \n",
    "    if used == 'n' :\n",
    "        broke = input('Has the item broken down on its own [y/n]? ')\n",
    "        \n",
    "        if broke == 'y' :\n",
    "            print('You can get a refund.')\n",
    "        else :\n",
    "            print('You cannot get a refund.')\n",
    "else:\n",
    "    print('You cannot get a refund.')\n",
    "            "
   ]
  },
  {
   "cell_type": "code",
   "execution_count": null,
   "id": "fe41e391-567b-4bde-ba36-b398bc2e6ef6",
   "metadata": {},
   "outputs": [],
   "source": []
  },
  {
   "cell_type": "code",
   "execution_count": null,
   "id": "84c8fdeb-2a7b-48d8-8cec-62da8cf0d5ea",
   "metadata": {},
   "outputs": [],
   "source": []
  }
 ],
 "metadata": {
  "kernelspec": {
   "display_name": "Python 3 (ipykernel)",
   "language": "python",
   "name": "python3"
  },
  "language_info": {
   "codemirror_mode": {
    "name": "ipython",
    "version": 3
   },
   "file_extension": ".py",
   "mimetype": "text/x-python",
   "name": "python",
   "nbconvert_exporter": "python",
   "pygments_lexer": "ipython3",
   "version": "3.11.7"
  }
 },
 "nbformat": 4,
 "nbformat_minor": 5
}
