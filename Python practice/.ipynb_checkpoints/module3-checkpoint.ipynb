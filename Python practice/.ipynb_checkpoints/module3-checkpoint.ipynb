{
 "cells": [
  {
   "cell_type": "code",
   "execution_count": 3,
   "id": "6552b706-e285-4349-ae16-2d5c48419e65",
   "metadata": {},
   "outputs": [
    {
     "name": "stdin",
     "output_type": "stream",
     "text": [
      "How many days ago have you purchased the item?  1\n",
      "Have you used the item at all [y/n]?  y\n"
     ]
    }
   ],
   "source": [
    "days = int (input('How many days ago have you purchased the item? '))\n",
    "if days <= 10 :\n",
    "    used = input('Have you used the item at all [y/n]? ')\n",
    "    \n",
    "    if used == 'n' :\n",
    "        broke = input('Has the item broken down on its own [y/n]? ')\n",
    "        \n",
    "        if broke == 'y' :\n",
    "            print('You can get a refund.')\n",
    "        else :\n",
    "            print('You cannot get a refund.')\n",
    "else:\n",
    "    print('You cannot get a refund.')\n",
    "\n",
    "    "
   ]
  },
  {
   "cell_type": "code",
   "execution_count": 3,
   "id": "5cc29eef-8637-4413-ba81-c429e5cfb90b",
   "metadata": {},
   "outputs": [
    {
     "name": "stdin",
     "output_type": "stream",
     "text": [
      "How many days ago have you purchased the item?  12\n",
      "Have you used the item at all [y/n]?  y\n",
      "Has the item broken down on its own [y/n]?  y\n"
     ]
    },
    {
     "name": "stdout",
     "output_type": "stream",
     "text": [
      "You can get a refund.\n"
     ]
    }
   ],
   "source": [
    "days = int (input('How many days ago have you purchased the item? '))\n",
    "used = input('Have you used the item at all [y/n]? ')\n",
    "broken = input('Has the item broken down on its own [y/n]? ')\n",
    "\n",
    "if days <= 10 and used == 'n' or broken == 'y' :\n",
    "    print('You can get a refund.')\n",
    "else :\n",
    "    print('You cannot get a refund.')\n",
    "    \n",
    "            "
   ]
  },
  {
   "cell_type": "code",
   "execution_count": 15,
   "id": "4017ce7b-4f2c-41e2-ab90-812d748f6d75",
   "metadata": {},
   "outputs": [
    {
     "name": "stdin",
     "output_type": "stream",
     "text": [
      "Enter a number:  0\n"
     ]
    },
    {
     "name": "stdout",
     "output_type": "stream",
     "text": [
      "The number is zero.\n"
     ]
    }
   ],
   "source": [
    "#else if or elif\n",
    "#else if is a wrong syntax\n",
    "# correct one is elif\n",
    "number = int(input('Enter a number: '))\n",
    "\n",
    "if number > 0:\n",
    "    print('The number is positive.')\n",
    "elif number < 0:\n",
    "    print('The number is negative.')\n",
    "else:\n",
    "    print('The number is zero.')\n"
   ]
  },
  {
   "cell_type": "code",
   "execution_count": 11,
   "id": "9feb44f9-d202-4a1d-8dd1-bff7dd9dd9ae",
   "metadata": {},
   "outputs": [
    {
     "name": "stdout",
     "output_type": "stream",
     "text": [
      "1\n",
      "2\n",
      "3\n",
      "4\n",
      "5\n",
      "6\n",
      "7\n",
      "8\n",
      "9\n",
      "10\n",
      "Finished!\n"
     ]
    }
   ],
   "source": [
    "counter = 1\n",
    "while counter < 11 :\n",
    "    print (counter)\n",
    "    counter += 1\n",
    "    \n",
    "print ('Finished!')\n",
    "    "
   ]
  },
  {
   "cell_type": "code",
   "execution_count": 18,
   "id": "d34591b6-3beb-4f5a-b010-c94a981d256d",
   "metadata": {},
   "outputs": [
    {
     "name": "stdout",
     "output_type": "stream",
     "text": [
      "\n",
      " =======================\n",
      " -----SECRET NUMBER-----\n",
      "           GAME\n",
      " =======================\n",
      " \n"
     ]
    },
    {
     "name": "stdin",
     "output_type": "stream",
     "text": [
      "Try to guess the secret number between 0 and 20:  15\n"
     ]
    },
    {
     "name": "stdout",
     "output_type": "stream",
     "text": [
      "Congratulations! You guessed it correct \n"
     ]
    }
   ],
   "source": [
    "secretnum = 15\n",
    "print('''\n",
    " =======================\n",
    " -----SECRET NUMBER-----\n",
    "           GAME\n",
    " =======================\n",
    " ''')\n",
    "userInput = int(input('Try to guess the secret number between 0 and 20: '))\n",
    "\n",
    "while userInput != secretnum:\n",
    "    userInput = int(input('Try again! '))\n",
    "\n",
    "print('Congratulations! You guessed it correct ')\n"
   ]
  },
  {
   "cell_type": "code",
   "execution_count": 5,
   "id": "3d84f409-ed47-45c4-840b-f24268631509",
   "metadata": {},
   "outputs": [],
   "source": [
    "# for loop, practice remaining"
   ]
  },
  {
   "cell_type": "code",
   "execution_count": 4,
   "id": "5b890331-3a16-4bf6-bad1-7baeea49f517",
   "metadata": {},
   "outputs": [
    {
     "name": "stdin",
     "output_type": "stream",
     "text": [
      "Enter your name or input EXIT to quit the program  ahmad\n"
     ]
    },
    {
     "name": "stdout",
     "output_type": "stream",
     "text": [
      "Hello ahmad\n"
     ]
    },
    {
     "name": "stdin",
     "output_type": "stream",
     "text": [
      "Enter your name or input EXIT to quit the program  Exit\n"
     ]
    },
    {
     "name": "stdout",
     "output_type": "stream",
     "text": [
      "Hello Exit\n"
     ]
    },
    {
     "name": "stdin",
     "output_type": "stream",
     "text": [
      "Enter your name or input EXIT to quit the program  EXIT\n"
     ]
    }
   ],
   "source": [
    "#break\n",
    "while True:\n",
    "    name = input('Enter your name or input EXIT to quit the program ')\n",
    "    if name == 'EXIT':\n",
    "       # print ('Hello',name) this will also print hello exit  \n",
    "        break\n",
    "    print ('Hello',name)    \n",
    "    "
   ]
  },
  {
   "cell_type": "code",
   "execution_count": 9,
   "id": "66c8ebaa-e09c-40a2-9253-498ffa53bb4b",
   "metadata": {},
   "outputs": [
    {
     "name": "stdout",
     "output_type": "stream",
     "text": [
      "1\n",
      "2\n",
      "3\n",
      "4\n",
      "6\n",
      "7\n",
      "8\n",
      "9\n",
      "11\n",
      "12\n",
      "13\n",
      "14\n",
      "16\n",
      "17\n",
      "18\n",
      "19\n"
     ]
    }
   ],
   "source": [
    "#continue\n",
    "for i in range (1,21):\n",
    "    if i % 5 == 0:\n",
    "        continue\n",
    "    print (i)"
   ]
  },
  {
   "cell_type": "code",
   "execution_count": null,
   "id": "586fe27c-7e14-48f0-b245-b0b23027cfa0",
   "metadata": {},
   "outputs": [],
   "source": []
  }
 ],
 "metadata": {
  "kernelspec": {
   "display_name": "Python 3 (ipykernel)",
   "language": "python",
   "name": "python3"
  },
  "language_info": {
   "codemirror_mode": {
    "name": "ipython",
    "version": 3
   },
   "file_extension": ".py",
   "mimetype": "text/x-python",
   "name": "python",
   "nbconvert_exporter": "python",
   "pygments_lexer": "ipython3",
   "version": "3.11.7"
  }
 },
 "nbformat": 4,
 "nbformat_minor": 5
}
