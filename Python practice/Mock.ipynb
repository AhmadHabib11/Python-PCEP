{
 "cells": [
  {
   "cell_type": "code",
   "execution_count": 1,
   "id": "d4a7d522-ab60-4cb2-bc47-a6ca2aa31a65",
   "metadata": {},
   "outputs": [
    {
     "name": "stdout",
     "output_type": "stream",
     "text": [
      "3\n"
     ]
    }
   ],
   "source": [
    "x = 4\n",
    "y = 5\n",
    "z = 3\n",
    "\n",
    "print (x==y or z)"
   ]
  },
  {
   "cell_type": "code",
   "execution_count": 3,
   "id": "6f383c6e-7b5f-4932-9686-f446276b87e4",
   "metadata": {},
   "outputs": [
    {
     "name": "stdout",
     "output_type": "stream",
     "text": [
      "yes\n"
     ]
    }
   ],
   "source": [
    "if 5 == 5.0:\n",
    "    print ('yes')\n",
    "else :\n",
    "    print ('no')"
   ]
  },
  {
   "cell_type": "code",
   "execution_count": 4,
   "id": "af4a1e84-73bf-4f1c-a25b-cb9a8084a00c",
   "metadata": {},
   "outputs": [
    {
     "name": "stdout",
     "output_type": "stream",
     "text": [
      "0-1-2-3-4-"
     ]
    }
   ],
   "source": [
    "for i in range(5):\n",
    "    print (i, end = '-')"
   ]
  },
  {
   "cell_type": "code",
   "execution_count": 5,
   "id": "37fe7c0e-197d-4c71-8d41-a4e1ebaa15a4",
   "metadata": {},
   "outputs": [
    {
     "name": "stdout",
     "output_type": "stream",
     "text": [
      "%\n",
      "%\n",
      "%\n"
     ]
    }
   ],
   "source": [
    "for i in range(2):\n",
    "        print ('%')\n",
    "else:\n",
    "        print('%')"
   ]
  },
  {
   "cell_type": "code",
   "execution_count": null,
   "id": "d21f633d-d1f5-4f85-9846-4c37e2ea99b3",
   "metadata": {},
   "outputs": [],
   "source": []
  }
 ],
 "metadata": {
  "kernelspec": {
   "display_name": "Python 3 (ipykernel)",
   "language": "python",
   "name": "python3"
  },
  "language_info": {
   "codemirror_mode": {
    "name": "ipython",
    "version": 3
   },
   "file_extension": ".py",
   "mimetype": "text/x-python",
   "name": "python",
   "nbconvert_exporter": "python",
   "pygments_lexer": "ipython3",
   "version": "3.11.7"
  }
 },
 "nbformat": 4,
 "nbformat_minor": 5
}
