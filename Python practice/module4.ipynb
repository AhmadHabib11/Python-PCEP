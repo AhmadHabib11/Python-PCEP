{
 "cells": [
  {
   "cell_type": "code",
   "execution_count": 1,
   "id": "53e5da17-bf94-4098-88f2-72fcb8059559",
   "metadata": {},
   "outputs": [],
   "source": [
    "# 1. intro to lists and 2. delete lists from python module"
   ]
  },
  {
   "cell_type": "code",
   "execution_count": 2,
   "id": "67fd7377-9f02-4069-8ebb-2e5cfe1ab369",
   "metadata": {},
   "outputs": [],
   "source": [
    "# 3.add list from python module"
   ]
  },
  {
   "cell_type": "code",
   "execution_count": 2,
   "id": "6500072b-a8ac-47cc-a0ee-66967044ac0d",
   "metadata": {},
   "outputs": [],
   "source": [
    "# 4. iterating lists"
   ]
  },
  {
   "cell_type": "code",
   "execution_count": 4,
   "id": "92ee88fc-0724-44e3-9b52-73cdb277bdd3",
   "metadata": {},
   "outputs": [
    {
     "name": "stdout",
     "output_type": "stream",
     "text": [
      "Number of months with low spendings: 1 , normal spendings: 5 , high spendings: 6 .\n"
     ]
    }
   ],
   "source": [
    "spendings = [1346.0, 987.50, 1734.40, 2567.0, 3271.45, 2500.0, 2130.0, 2510.30, 2987.34, 3120.50, 4069.78, 1000.0]\n",
    "\n",
    "lowcount = 0;\n",
    "normalcount = 0;\n",
    "highcount = 0;\n",
    "\n",
    "for spending in spendings :\n",
    "    if spending < 1000.0 :\n",
    "        lowcount += 1\n",
    "    elif spending >= 1000.0 and spending <= 2500.0 :\n",
    "        normalcount += 1\n",
    "    else:\n",
    "        highcount += 1\n",
    "print ('Number of months with low spendings:',lowcount,', normal spendings:',normalcount,', high spendings:',highcount,'.')"
   ]
  },
  {
   "cell_type": "code",
   "execution_count": 5,
   "id": "91c4f1ad-e56a-41e7-b5b2-445da5399586",
   "metadata": {},
   "outputs": [
    {
     "name": "stdout",
     "output_type": "stream",
     "text": [
      "Numbers of months with low spendings: 1, normal spendings: 5, high spendings: 6.\n"
     ]
    }
   ],
   "source": [
    "spendings = [1346.0, 987.50, 1734.40, 2567.0, 3271.45, 2500.0, 2130.0, 2510.30, 2987.34, 3120.50, 4069.78, 1000.0]\n",
    "\n",
    "lowcount = 0;\n",
    "normalcount = 0;\n",
    "highcount = 0;\n",
    "\n",
    "for spending in spendings :\n",
    "    if spending < 1000.0 :\n",
    "        lowcount += 1\n",
    "    elif spending >= 1000.0 and spending <= 2500.0 :\n",
    "        normalcount += 1\n",
    "    else:\n",
    "        highcount += 1\n",
    "print('Numbers of months with low spendings: ' + str(lowcount) + ', normal spendings: ' + str(normalcount) + ', high spendings: ' + str(highcount) + '.')\n"
   ]
  },
  {
   "cell_type": "code",
   "execution_count": 6,
   "id": "09a14917-b65a-4a1f-a4a2-a8f4e3f18f0c",
   "metadata": {},
   "outputs": [
    {
     "name": "stdout",
     "output_type": "stream",
     "text": [
      "A1 A2 A3 \n",
      "B1 B2 B3 \n"
     ]
    }
   ],
   "source": [
    "table = [['A1', 'A2', 'A3'], ['B1', 'B2', 'B3']]\n",
    "for row in table:\n",
    "    for cell in row:\n",
    "        print(cell, '', end = '')\n",
    "    print()"
   ]
  },
  {
   "cell_type": "code",
   "execution_count": 9,
   "id": "ea20c0c0-3b67-49ee-b11f-5d53529fee32",
   "metadata": {},
   "outputs": [
    {
     "name": "stdout",
     "output_type": "stream",
     "text": [
      "[[1, 2, 3, 4, 5], [1, 2, 3, 4, 5], [1, 2, 3, 4, 5], [1, 2, 3, 4, 5]]\n"
     ]
    }
   ],
   "source": [
    "#1 2 3 4 5\n",
    "#1 2 3 4 5\n",
    "#1 2 3 4 5\n",
    "#1 2 3 4 5\n",
    "\n",
    "table = [[i for i in range(1, 6)] for j in range(4)]\n",
    "print(table)"
   ]
  },
  {
   "cell_type": "code",
   "execution_count": 12,
   "id": "0bf6631a-e053-40d0-8196-0e35ce0e9c28",
   "metadata": {},
   "outputs": [
    {
     "name": "stdout",
     "output_type": "stream",
     "text": [
      "1 2 3 4 5 \n",
      "1 2 3 4 5 \n",
      "1 2 3 4 5 \n",
      "1 2 3 4 5 \n"
     ]
    }
   ],
   "source": [
    "#1 2 3 4 5\n",
    "#1 2 3 4 5\n",
    "#1 2 3 4 5\n",
    "#1 2 3 4 5\n",
    "\n",
    "table = [[i for i in range(1, 6)] for j in range(4)]\n",
    "#print(table)\n",
    "for row in table:\n",
    "    for col in row:\n",
    "        print(col, end=' ')\n",
    "    print()  # Move to the next line after each row\n"
   ]
  },
  {
   "cell_type": "code",
   "execution_count": 13,
   "id": "75e79a88-db9f-4a00-b62d-5444483a8fcb",
   "metadata": {},
   "outputs": [
    {
     "name": "stdout",
     "output_type": "stream",
     "text": [
      "['ahmad', 'john', 'ahmad', 'john']\n"
     ]
    }
   ],
   "source": [
    "list_names = ['ahmad', 'john'] * 2\n",
    "print(list_names)"
   ]
  },
  {
   "cell_type": "code",
   "execution_count": 2,
   "id": "e10d1cea-d888-4a9a-be0e-0bd7a9370850",
   "metadata": {},
   "outputs": [
    {
     "name": "stdout",
     "output_type": "stream",
     "text": [
      "7 5\n"
     ]
    }
   ],
   "source": [
    "first = 5\n",
    "second = 7\n",
    "first, second = second, first\n",
    "print(first,second)"
   ]
  },
  {
   "cell_type": "code",
   "execution_count": 4,
   "id": "72d11dc9-fbd0-437f-9d73-cac1bbb83c07",
   "metadata": {},
   "outputs": [
    {
     "name": "stdout",
     "output_type": "stream",
     "text": [
      "Name: London , Country: UK , Population: 8.98\n",
      "Name: Canberra , Country: Australia , Population: 0.4\n",
      "Name: Algiers , Country: Algeria , Population: 3.9\n"
     ]
    }
   ],
   "source": [
    "capitals = [('London', 'UK', 8.98), ('Canberra', 'Australia', 0.4), ('Algiers', 'Algeria', 3.9)]\n",
    "for capital in capitals:\n",
    "    print('Name:', capital[0], ', Country:', capital[1], ', Population:', capital[2])"
   ]
  },
  {
   "cell_type": "code",
   "execution_count": 5,
   "id": "1f408b75-e83c-448a-82b4-138d71856726",
   "metadata": {},
   "outputs": [
    {
     "name": "stdout",
     "output_type": "stream",
     "text": [
      "('London', 'UK', 8.98)\n",
      "('Canberra', 'Australia', 0.4)\n",
      "('Algiers', 'Algeria', 3.9)\n"
     ]
    }
   ],
   "source": [
    "capitals = [('London', 'UK', 8.98), ('Canberra', 'Australia', 0.4), ('Algiers', 'Algeria', 3.9)]\n",
    "for capital in capitals:\n",
    "    print(capital)"
   ]
  },
  {
   "cell_type": "code",
   "execution_count": 8,
   "id": "be4f755b-d8e7-40d5-b6ac-18f852d7024d",
   "metadata": {},
   "outputs": [
    {
     "name": "stdout",
     "output_type": "stream",
     "text": [
      "8.98\n",
      "Algeria\n"
     ]
    }
   ],
   "source": [
    "capitals = [('London', 'UK', 8.98), ('Canberra', 'Australia', 0.4), ('Algiers', 'Algeria', 3.9)]\n",
    "print(capitals[0][2])\n",
    "print(capitals[2][1])"
   ]
  },
  {
   "cell_type": "code",
   "execution_count": 10,
   "id": "210f96dd-92d6-4cb5-ac17-835d8061cd00",
   "metadata": {},
   "outputs": [
    {
     "name": "stdout",
     "output_type": "stream",
     "text": [
      "5 connections lead to Rome with an average flight time of 161.0 minutes\n"
     ]
    }
   ],
   "source": [
    "connections = [\n",
    "    ('Amsterdam', 'Dublin', 100),\n",
    "    ('Amsterdam', 'Rome', 140),\n",
    "    ('Rome', 'Warsaw', 130),\n",
    "    ('Minsk', 'Prague', 95),\n",
    "    ('Stockholm', 'Rome', 190),\n",
    "    ('Copenhagen', 'Paris', 120),\n",
    "    ('Madrid', 'Rome', 135),\n",
    "    ('Lisbon', 'Rome', 170),\n",
    "    ('Dublin', 'Rome', 170),\n",
    "    ]\n",
    "    \n",
    "counter = 0;\n",
    "flightTime = 0.0;\n",
    "    \n",
    "for connection in connections:\n",
    "    city_from = connection[0]\n",
    "    city_to = connection[1]\n",
    "    time = connection[2]\n",
    "        \n",
    "    if city_to == 'Rome' :\n",
    "        counter += 1\n",
    "        flightTime += time\n",
    "\n",
    "avg = flightTime / counter\n",
    "\n",
    "print(counter,'connections lead to Rome with an average flight time of',avg,'minutes')"
   ]
  },
  {
   "cell_type": "code",
   "execution_count": 11,
   "id": "419e4d31-2c6b-4b86-acb6-330f7c8ae400",
   "metadata": {},
   "outputs": [],
   "source": [
    "tennis_ranking = {\n",
    "    1: 'Ashleigh Barty',\n",
    "    2: 'Naomi Osaka',\n",
    "    3: 'Simona Halep'\n",
    "    }"
   ]
  },
  {
   "cell_type": "code",
   "execution_count": 14,
   "id": "4d7f8d3a-6726-4c71-9509-6fabe482fa79",
   "metadata": {},
   "outputs": [
    {
     "name": "stdout",
     "output_type": "stream",
     "text": [
      "Naomi Osaka\n"
     ]
    }
   ],
   "source": [
    "print(tennis_ranking[2])"
   ]
  },
  {
   "cell_type": "code",
   "execution_count": 15,
   "id": "675914f0-b59b-4edb-8fae-fc1fdce88698",
   "metadata": {},
   "outputs": [
    {
     "name": "stdout",
     "output_type": "stream",
     "text": [
      "{1: 'Ashleigh Barty', 2: 'Naomi Osaka', 3: 'Simona Halep'}\n"
     ]
    }
   ],
   "source": [
    "tennis_ranking = {\n",
    "    1: 'Ashleigh Barty',\n",
    "    2: 'Naomi Osaka',\n",
    "    3: 'Simona Halep'\n",
    "    }\n",
    "print(tennis_ranking)"
   ]
  },
  {
   "cell_type": "code",
   "execution_count": 1,
   "id": "5a73ac3e-73d6-4fa4-9643-45cee8325995",
   "metadata": {},
   "outputs": [
    {
     "name": "stdin",
     "output_type": "stream",
     "text": [
      "Enter a word in English or EXIT:  face\n"
     ]
    },
    {
     "name": "stdout",
     "output_type": "stream",
     "text": [
      "Translation: Gesicht\n"
     ]
    },
    {
     "name": "stdin",
     "output_type": "stream",
     "text": [
      "Enter a word in English or EXIT:  nose\n"
     ]
    },
    {
     "name": "stdout",
     "output_type": "stream",
     "text": [
      "Translation: Nase\n"
     ]
    },
    {
     "name": "stdin",
     "output_type": "stream",
     "text": [
      "Enter a word in English or EXIT:  blah\n"
     ]
    },
    {
     "name": "stdout",
     "output_type": "stream",
     "text": [
      "No match!\n"
     ]
    },
    {
     "name": "stdin",
     "output_type": "stream",
     "text": [
      "Enter a word in English or EXIT:  EXIT\n"
     ]
    },
    {
     "name": "stdout",
     "output_type": "stream",
     "text": [
      "Bye!\n"
     ]
    }
   ],
   "source": [
    "sample_dict = {\n",
    "    \"mouth\": \"Mund\",\n",
    "    \"finger\": \"Finger\",\n",
    "    \"leg\": \"Bein\",\n",
    "    \"hand\": \"Hand\",\n",
    "    \"face\": \"Gesicht\",\n",
    "    \"nose\": \"Nase\"\n",
    "}\n",
    "\n",
    "word = input('Enter a word in English or EXIT: ')\n",
    "\n",
    "while (word != 'EXIT') :\n",
    "    if word in sample_dict :\n",
    "        print ('Translation:',sample_dict[word])\n",
    "    else :\n",
    "        print('No match!')\n",
    "        \n",
    "    word = input('Enter a word in English or EXIT: ')\n",
    "        \n",
    "print('Bye!')"
   ]
  },
  {
   "cell_type": "code",
   "execution_count": 3,
   "id": "06e1900d-565a-477c-9edc-2d3dec62a95c",
   "metadata": {},
   "outputs": [],
   "source": [
    "# list.insert(index, element)\n"
   ]
  },
  {
   "cell_type": "code",
   "execution_count": 4,
   "id": "80ffc011-42df-4cc4-8ba1-cdd406b3ac71",
   "metadata": {},
   "outputs": [
    {
     "name": "stdout",
     "output_type": "stream",
     "text": [
      "[0, 1, 2, 3, 4, 5, 6, 7, 8, 9]\n",
      "[0, 2, 4, 6, 8]\n"
     ]
    }
   ],
   "source": [
    "# Original with default step of 1\n",
    "original_list = [i for i in range(0, 10)]\n",
    "print(original_list)  # Output: [0, 1, 2, 3, 4, 5, 6, 7, 8, 9]\n",
    "\n",
    "# Modified to increment by 2\n",
    "custom_increment_list = [i for i in range(0, 10, 2)]\n",
    "print(custom_increment_list)  # Output: [0, 2, 4, 6, 8]\n"
   ]
  },
  {
   "cell_type": "code",
   "execution_count": 6,
   "id": "0db4b861-5b96-4429-b171-eb75b06a928d",
   "metadata": {},
   "outputs": [],
   "source": [
    "values = [[3 - x for x in range(0, 4, 2)] for y in range(5)]\n"
   ]
  },
  {
   "cell_type": "code",
   "execution_count": 11,
   "id": "5404675e-4ad2-438d-9214-31eb5dc5ee7c",
   "metadata": {},
   "outputs": [],
   "source": [
    "values = [[3 - x for x in range(2)] for y in range(5)]\n",
    "# it is the same as range(0,2,1)\n",
    "# 0 is the start value, 2 is the stopping value, 1 is the increment value that is also the default increment value if not mentioned. it will print 0,1\n",
    "# range (0,4,2)\n",
    "# it will print 0,2"
   ]
  },
  {
   "cell_type": "code",
   "execution_count": 12,
   "id": "290d362e-71f3-482e-ac06-489c18bb4c5b",
   "metadata": {},
   "outputs": [],
   "source": [
    "vals = (1, 2, 3, 4)\n",
    "#so it is same like vals[1:3]\n",
    "#it prints 2,3\n",
    "#vals[1:-1] is also correct now i understood because it is a rule that the lists or tuples slicing should be from left to right so in reallity it is going from left to right like on 1 index there is 2 and on -1 there is 4 but it goes till 0 that is 3 so it prints 2,3"
   ]
  },
  {
   "cell_type": "code",
   "execution_count": 17,
   "id": "1cce89da-c24f-4666-a01d-f79ac7e83d9a",
   "metadata": {},
   "outputs": [
    {
     "ename": "KeyError",
     "evalue": "'k4t3'",
     "output_type": "error",
     "traceback": [
      "\u001b[1;31m---------------------------------------------------------------------------\u001b[0m",
      "\u001b[1;31mKeyError\u001b[0m                                  Traceback (most recent call last)",
      "Cell \u001b[1;32mIn[17], line 4\u001b[0m\n\u001b[0;32m      1\u001b[0m nicks \u001b[38;5;241m=\u001b[39m {\u001b[38;5;124m'\u001b[39m\u001b[38;5;124mAdam\u001b[39m\u001b[38;5;124m'\u001b[39m: \u001b[38;5;124m'\u001b[39m\u001b[38;5;124mSmasher\u001b[39m\u001b[38;5;124m'\u001b[39m, \u001b[38;5;124m'\u001b[39m\u001b[38;5;124mKate\u001b[39m\u001b[38;5;124m'\u001b[39m: \u001b[38;5;124m'\u001b[39m\u001b[38;5;124mk4t3\u001b[39m\u001b[38;5;124m'\u001b[39m, \u001b[38;5;124m'\u001b[39m\u001b[38;5;124mJohn\u001b[39m\u001b[38;5;124m'\u001b[39m: \u001b[38;5;124m'\u001b[39m\u001b[38;5;124mxJohnx\u001b[39m\u001b[38;5;124m'\u001b[39m}\n\u001b[1;32m----> 4\u001b[0m \u001b[38;5;28mprint\u001b[39m(nicks[\u001b[38;5;124m'\u001b[39m\u001b[38;5;124mk4t3\u001b[39m\u001b[38;5;124m'\u001b[39m])\n",
      "\u001b[1;31mKeyError\u001b[0m: 'k4t3'"
     ]
    }
   ],
   "source": [
    "nicks = {'Adam': 'Smasher', 'Kate': 'k4t3', 'John': 'xJohnx'}\n",
    " \n",
    "\n",
    "print(nicks['k4t3'])\n"
   ]
  },
  {
   "cell_type": "code",
   "execution_count": 18,
   "id": "5f212d38-b106-4e24-ac4b-57c36ac77b89",
   "metadata": {},
   "outputs": [
    {
     "name": "stdout",
     "output_type": "stream",
     "text": [
      "k4t3\n"
     ]
    }
   ],
   "source": [
    "print(nicks['Kate'])"
   ]
  },
  {
   "cell_type": "code",
   "execution_count": 24,
   "id": "7d4f680b-ee53-47a3-8ee2-7ef3e104395c",
   "metadata": {},
   "outputs": [
    {
     "data": {
      "text/plain": [
       "False"
      ]
     },
     "execution_count": 24,
     "metadata": {},
     "output_type": "execute_result"
    }
   ],
   "source": [
    "nicks = {'Adam': 'Smasher', 'Kate': 'k4t3', 'John': 'xJohnx'}\n",
    " \n",
    "'k4t3' in nicks.keys()\n",
    "\n",
    " # in dictioinary, colon se left wali keys hoti hain or right wali values\n",
    "\n"
   ]
  },
  {
   "cell_type": "code",
   "execution_count": 25,
   "id": "75945385-a366-4d87-ab63-a74ded8281c1",
   "metadata": {},
   "outputs": [
    {
     "data": {
      "text/plain": [
       "True"
      ]
     },
     "execution_count": 25,
     "metadata": {},
     "output_type": "execute_result"
    }
   ],
   "source": [
    "nicks = {'Adam': 'Smasher', 'Kate': 'k4t3', 'John': 'xJohnx'}\n",
    " \n",
    "'k4t3' in nicks.values()\n"
   ]
  },
  {
   "cell_type": "code",
   "execution_count": 1,
   "id": "395ae98c-5bcf-4eed-ad4e-6bc32de300fa",
   "metadata": {},
   "outputs": [],
   "source": [
    "# lists, tuples, and dictionaries are built-in data structures or collections"
   ]
  },
  {
   "cell_type": "code",
   "execution_count": 2,
   "id": "c332f9e9-1e8f-467b-863b-83fee1af2688",
   "metadata": {},
   "outputs": [],
   "source": [
    "#Lists: Mutable (you can change, add, or remove elements after the list is created).\n",
    "\n",
    "#Example: my_list = [1, 2, 3] (You can do my_list[0] = 10 to change the first element).\n",
    "#Tuples: Immutable (once a tuple is created, you cannot change, add, or remove its elements).\n",
    "\n",
    "#Example: my_tuple = (1, 2, 3) (You cannot do my_tuple[0] = 10).\n",
    "#Dictionaries: Mutable (you can change, add, or remove key-value pairs after the dictionary is created).\n",
    "\n",
    "#Example: my_dict = {'key1': 'value1', 'key2': 'value2'} (You can do my_dict['key1'] = 'new_value' to change the value associated with 'key1')."
   ]
  },
  {
   "cell_type": "code",
   "execution_count": 13,
   "id": "217520d5-dabd-40bf-a71e-8d821ec48de7",
   "metadata": {},
   "outputs": [
    {
     "data": {
      "text/plain": [
       "[0, 1, 4, 9, 16, 25, 36, 49, 64, 81]"
      ]
     },
     "execution_count": 13,
     "metadata": {},
     "output_type": "execute_result"
    }
   ],
   "source": [
    "arr = [i**2 for i in range(10)]\n",
    "arr"
   ]
  },
  {
   "cell_type": "code",
   "execution_count": 16,
   "id": "cfa2adf0-ce26-4d35-abe3-06b0a976a192",
   "metadata": {},
   "outputs": [
    {
     "data": {
      "text/plain": [
       "[0, 1, 4, 9, 16, 25, 36, 49, 64, 81]"
      ]
     },
     "execution_count": 16,
     "metadata": {},
     "output_type": "execute_result"
    }
   ],
   "source": [
    "arr = []\n",
    "for i in range(10):\n",
    "    arr.append(i**2)\n",
    "arr"
   ]
  },
  {
   "cell_type": "code",
   "execution_count": 20,
   "id": "3368839c-49af-4860-831d-e3043bdc866f",
   "metadata": {},
   "outputs": [
    {
     "name": "stdout",
     "output_type": "stream",
     "text": [
      "hello world  "
     ]
    }
   ],
   "source": [
    "print('hello', end=' ')\n",
    "print('world', end='  ')"
   ]
  },
  {
   "cell_type": "code",
   "execution_count": 21,
   "id": "7f7d9082-b6c3-41f0-8922-cdebcba63291",
   "metadata": {},
   "outputs": [
    {
     "name": "stdout",
     "output_type": "stream",
     "text": [
      "hello\n",
      "world\n"
     ]
    }
   ],
   "source": [
    "print ('hello')\n",
    "print ('world')"
   ]
  },
  {
   "cell_type": "code",
   "execution_count": 34,
   "id": "0ea3d13a-900b-4b99-b929-39e839a522b7",
   "metadata": {},
   "outputs": [
    {
     "data": {
      "text/plain": [
       "True"
      ]
     },
     "execution_count": 34,
     "metadata": {},
     "output_type": "execute_result"
    }
   ],
   "source": [
    "claim = \"Pluto is a planet!\"\n",
    "claim.startswith('Pluto')\n",
    "#claim.endswith('planet')"
   ]
  },
  {
   "cell_type": "code",
   "execution_count": null,
   "id": "6fe536f7-b0c4-4794-90b8-f1e90ebfb3fb",
   "metadata": {},
   "outputs": [],
   "source": []
  }
 ],
 "metadata": {
  "kernelspec": {
   "display_name": "Python 3 (ipykernel)",
   "language": "python",
   "name": "python3"
  },
  "language_info": {
   "codemirror_mode": {
    "name": "ipython",
    "version": 3
   },
   "file_extension": ".py",
   "mimetype": "text/x-python",
   "name": "python",
   "nbconvert_exporter": "python",
   "pygments_lexer": "ipython3",
   "version": "3.11.7"
  }
 },
 "nbformat": 4,
 "nbformat_minor": 5
}
